{
  "cells": [
    {
      "cell_type": "markdown",
      "source": [
        "# **This is simple implementation of agentic workflow using various LLM endpoints/providers with Langchain and Langraph**"
      ],
      "metadata": {
        "id": "ZiUgsksWEZsa"
      }
    },
    {
      "cell_type": "markdown",
      "metadata": {
        "id": "GIw56UyyET3d"
      },
      "source": [
        "Installing dependencies"
      ]
    },
    {
      "cell_type": "code",
      "execution_count": 1,
      "metadata": {
        "vscode": {
          "languageId": "plaintext"
        },
        "id": "_EF79M2fET3h",
        "colab": {
          "base_uri": "https://localhost:8080/"
        },
        "outputId": "a37e57c5-7944-45a5-c293-a3c6e43df23d"
      },
      "outputs": [
        {
          "output_type": "stream",
          "name": "stdout",
          "text": [
            "\u001b[?25l   \u001b[90m━━━━━━━━━━━━━━━━━━━━━━━━━━━━━━━━━━━━━━━━\u001b[0m \u001b[32m0.0/1.0 MB\u001b[0m \u001b[31m?\u001b[0m eta \u001b[36m-:--:--\u001b[0m\r\u001b[2K   \u001b[91m━━━━━━━━\u001b[0m\u001b[90m╺\u001b[0m\u001b[90m━━━━━━━━━━━━━━━━━━━━━━━━━━━━━━━\u001b[0m \u001b[32m0.2/1.0 MB\u001b[0m \u001b[31m5.9 MB/s\u001b[0m eta \u001b[36m0:00:01\u001b[0m\r\u001b[2K   \u001b[91m━━━━━━━━━━━━━━━━━━━━━━━━━━━━━━━━━━━━━━━\u001b[0m\u001b[91m╸\u001b[0m \u001b[32m1.0/1.0 MB\u001b[0m \u001b[31m17.0 MB/s\u001b[0m eta \u001b[36m0:00:01\u001b[0m\r\u001b[2K   \u001b[90m━━━━━━━━━━━━━━━━━━━━━━━━━━━━━━━━━━━━━━━━\u001b[0m \u001b[32m1.0/1.0 MB\u001b[0m \u001b[31m11.5 MB/s\u001b[0m eta \u001b[36m0:00:00\u001b[0m\n",
            "\u001b[2K   \u001b[90m━━━━━━━━━━━━━━━━━━━━━━━━━━━━━━━━━━━━━━━━\u001b[0m \u001b[32m408.7/408.7 kB\u001b[0m \u001b[31m20.6 MB/s\u001b[0m eta \u001b[36m0:00:00\u001b[0m\n",
            "\u001b[2K   \u001b[90m━━━━━━━━━━━━━━━━━━━━━━━━━━━━━━━━━━━━━━━━\u001b[0m \u001b[32m118.5/118.5 kB\u001b[0m \u001b[31m2.3 MB/s\u001b[0m eta \u001b[36m0:00:00\u001b[0m\n",
            "\u001b[2K   \u001b[90m━━━━━━━━━━━━━━━━━━━━━━━━━━━━━━━━━━━━━━━━\u001b[0m \u001b[32m951.5/951.5 kB\u001b[0m \u001b[31m14.6 MB/s\u001b[0m eta \u001b[36m0:00:00\u001b[0m\n",
            "\u001b[2K   \u001b[90m━━━━━━━━━━━━━━━━━━━━━━━━━━━━━━━━━━━━━━━━\u001b[0m \u001b[32m106.5/106.5 kB\u001b[0m \u001b[31m3.8 MB/s\u001b[0m eta \u001b[36m0:00:00\u001b[0m\n",
            "\u001b[?25h"
          ]
        }
      ],
      "source": [
        "!pip install langchain -qU\n",
        "!pip install langgraph -qU\n",
        "!pip install langchain-anthropic -qU\n",
        "!pip install langchain-groq -qU"
      ]
    },
    {
      "cell_type": "markdown",
      "metadata": {
        "id": "wcjtMYRDET3j"
      },
      "source": [
        "Importing dependencies"
      ]
    },
    {
      "cell_type": "code",
      "execution_count": 2,
      "metadata": {
        "vscode": {
          "languageId": "plaintext"
        },
        "id": "CX15QBV9ET3k"
      },
      "outputs": [],
      "source": [
        "import nest_asyncio\n",
        "from typing import List, TypedDict, Any, Tuple\n",
        "from pydantic import BaseModel, Field\n",
        "from langgraph.graph import StateGraph, END, START\n",
        "from datetime import date, datetime\n",
        "from langgraph.checkpoint.memory import MemorySaver\n",
        "\n",
        "nest_asyncio.apply()"
      ]
    },
    {
      "cell_type": "markdown",
      "source": [
        "# **API keys**"
      ],
      "metadata": {
        "id": "mTyp4Kj9G1FL"
      }
    },
    {
      "cell_type": "code",
      "source": [
        "from google.colab import userdata\n",
        "CLAUDE_API_KEY = userdata.get('CLAUDEAI_API_KEY')\n",
        "GROQ_API_KEY = userdata.get('GROQ_API_KEY')\n",
        "FINANCIAL_MODELING_PREP_API_KEY = userdata.get('FMP_API_KEY')"
      ],
      "metadata": {
        "id": "KIQOfVuUG2yC"
      },
      "execution_count": 3,
      "outputs": []
    },
    {
      "cell_type": "markdown",
      "source": [
        "# **Functions**"
      ],
      "metadata": {
        "id": "8rbvFk_2Im9G"
      }
    },
    {
      "cell_type": "code",
      "source": [
        "def convert_to_dbl_qt(input: str) -> str:\n",
        "  return input.replace(\"'\", '\"')"
      ],
      "metadata": {
        "id": "9vosEuIpzmy-"
      },
      "execution_count": 4,
      "outputs": []
    },
    {
      "cell_type": "markdown",
      "source": [
        "# get_stock_price"
      ],
      "metadata": {
        "id": "NMwyk-pPItms"
      }
    },
    {
      "cell_type": "code",
      "source": [
        "import os\n",
        "import requests\n",
        "from pprint import pprint\n",
        "class StockPrice(BaseModel):\n",
        "    symbol:str = Field(description=\"The symbol of the company\")\n",
        "    price:float = Field(description=\"The price of the company\")\n",
        "    volume:float = Field(description=\"The volume of the company\")\n",
        "    priceAvg50:float = Field(description=\"The 50 day average price of the company\")\n",
        "    priceAvg200:float = Field(description=\"The 200 day average price of the company\")\n",
        "    eps:float = Field(description=\"The EPS of the company\")\n",
        "    pe:float = Field(description=\"The PE of the company\")\n",
        "    earningsAnnouncement:datetime = Field(description=\"The earnings announcement of the company\")\n",
        "# Define the functions that will fetch financial data\n",
        "def get_stock_price(symbol):\n",
        "    \"\"\"\n",
        "    Fetch the current stock price for the given symbol, the current volume, the average price 50d and 200d, EPS, PE and the next earnings Announcement.\n",
        "    \"\"\"\n",
        "    try:\n",
        "      url = f\"https://financialmodelingprep.com/api/v3/quote-order/{symbol}?apikey={FINANCIAL_MODELING_PREP_API_KEY}\"\n",
        "      response = requests.get(url)\n",
        "      data = response.json()\n",
        "      stock_price = StockPrice(**data[0])\n",
        "      return stock_price\n",
        "    except (IndexError, KeyError):\n",
        "        return {\"error\": f\"Could not fetch price for symbol: {symbol}\"}\n",
        "\n",
        "## DATA PROVIDED BY THIS ENDPOINT:\n",
        "# [{'symbol': 'AAPL',\n",
        "#   'name': 'Apple Inc.',\n",
        "#   'price': 222.5,\n",
        "#   'changesPercentage': -0.1212,\n",
        "#   'change': -0.27,\n",
        "#   'dayLow': 221.91,\n",
        "#   'dayHigh': 224.03,\n",
        "#   'yearHigh': 237.23,\n",
        "#   'yearLow': 164.08,\n",
        "#   'marketCap': 3382912250000,\n",
        "#   'priceAvg50': 223.0692,\n",
        "#   'priceAvg200': 195.382,\n",
        "#   'exchange': 'NASDAQ',\n",
        "#   'volume': 35396922,\n",
        "#   'avgVolume': 57548506,\n",
        "#   'open': 223.58,\n",
        "#   'previousClose': 222.77,\n",
        "#   'eps': 6.57,\n",
        "#   'pe': 33.87,\n",
        "#   'earningsAnnouncement': '2024-10-31T00:00:00.000+0000',\n",
        "#   'sharesOutstanding': 15204100000,\n",
        "#   'timestamp': 1726257601}]"
      ],
      "metadata": {
        "id": "IsN5g5yRImRg"
      },
      "execution_count": 5,
      "outputs": []
    },
    {
      "cell_type": "markdown",
      "source": [
        "# get_company_financials"
      ],
      "metadata": {
        "id": "kkufz7UDI4Nv"
      }
    },
    {
      "cell_type": "code",
      "source": [
        "class CompanyFinancials(BaseModel):\n",
        "    symbol:str =  Field(description=\"The symbol of the company\")\n",
        "    companyName:str =  Field(description=\"The name of the company\")\n",
        "    marketCap:float = Field(alias=\"mktCap\", description=\"The market capitalization of the company\")\n",
        "    industry:str =  Field(description=\"The industry of the company\")\n",
        "    sector:str =  Field(description=\"The sector of the company\")\n",
        "    website:str =  Field(description=\"The website of the company\")\n",
        "    beta:float = Field(description=\"The beta of the company\")\n",
        "    price:float = Field(description=\"The price of the company\")\n",
        "\n",
        "def get_company_financials(symbol) -> Tuple[Any, CompanyFinancials]:\n",
        "    \"\"\"\n",
        "    Fetch basic financial information for the given company symbol such as the industry, the sector, the name of the company, and the market capitalization.\n",
        "    \"\"\"\n",
        "    try:\n",
        "      url = f\"https://financialmodelingprep.com/api/v3/profile/{symbol}?apikey={FINANCIAL_MODELING_PREP_API_KEY}\"\n",
        "      response = requests.get(url)\n",
        "      data = response.json()\n",
        "      financials = CompanyFinancials(**data[0])\n",
        "      return financials\n",
        "    except (IndexError, KeyError):\n",
        "        return {\"error\": f\"Could not fetch financials for symbol: {symbol}\"}\n",
        "\n",
        "## DATA PROVIDED BY THIS ENDPOINT:\n",
        "# [{'symbol': 'AAPL',\n",
        "#   'price': 222.5,\n",
        "#   'beta': 1.24,\n",
        "#   'volAvg': 57548506,\n",
        "#   'mktCap': 3382912250000,\n",
        "#   'lastDiv': 1,\n",
        "#   'range': '164.08-237.23',\n",
        "#   'changes': -0.27,\n",
        "#   'companyName': 'Apple Inc.',\n",
        "#   'currency': 'USD',\n",
        "#   'cik': '0000320193',\n",
        "#   'isin': 'US0378331005',\n",
        "#   'cusip': '037833100',\n",
        "#   'exchange': 'NASDAQ Global Select',\n",
        "#   'exchangeShortName': 'NASDAQ',\n",
        "#   'industry': 'Consumer Electronics',\n",
        "#   'website': 'https://www.apple.com',\n",
        "#   'description': 'Apple Inc. designs, manufactures, and markets smartphones, personal computers, tablets, wearables, and accessories worldwide. The company offers iPhone, a line of smartphones; Mac, a line of personal computers; iPad, a line of multi-purpose tablets; and wearables, home, and accessories comprising AirPods, Apple TV, Apple Watch, Beats products, and HomePod. It also provides AppleCare support and cloud services; and operates various platforms, including the App Store that allow customers to discover and download applications and digital content, such as books, music, video, games, and podcasts. In addition, the company offers various services, such as Apple Arcade, a game subscription service; Apple Fitness+, a personalized fitness service; Apple Music, which offers users a curated listening experience with on-demand radio stations; Apple News+, a subscription news and magazine service; Apple TV+, which offers exclusive original content; Apple Card, a co-branded credit card; and Apple Pay, a cashless payment service, as well as licenses its intellectual property. The company serves consumers, and small and mid-sized businesses; and the education, enterprise, and government markets. It distributes third-party applications for its products through the App Store. The company also sells its products through its retail and online stores, and direct sales force; and third-party cellular network carriers, wholesalers, retailers, and resellers. Apple Inc. was incorporated in 1977 and is headquartered in Cupertino, California.',\n",
        "#   'ceo': 'Mr. Timothy D. Cook',\n",
        "#   'sector': 'Technology',\n",
        "#   'country': 'US',\n",
        "#   'fullTimeEmployees': '161000',\n",
        "#   'phone': '408 996 1010',\n",
        "#   'address': 'One Apple Park Way',\n",
        "#   'city': 'Cupertino',\n",
        "#   'state': 'CA',\n",
        "#   'zip': '95014',\n",
        "#   'dcfDiff': 55.70546,\n",
        "#   'dcf': 166.79453554058594,\n",
        "#   'image': 'https://financialmodelingprep.com/image-stock/AAPL.png',\n",
        "#   'ipoDate': '1980-12-12',\n",
        "#   'defaultImage': False,\n",
        "#   'isEtf': False,\n",
        "#   'isActivelyTrading': True,\n",
        "#   'isAdr': False,\n",
        "#   'isFund': False}]"
      ],
      "metadata": {
        "id": "dP1VtKjYI-n_"
      },
      "execution_count": 6,
      "outputs": []
    },
    {
      "cell_type": "markdown",
      "source": [
        "# get_income_statement"
      ],
      "metadata": {
        "id": "TxgQUQf7JD7P"
      }
    },
    {
      "cell_type": "code",
      "source": [
        "class IncomeStatement(BaseModel):\n",
        "    date_field: date = Field(alias='date', description=\"The date of the income statement\")\n",
        "    revenue:float = Field(description=\"The revenue of the company\")\n",
        "    gross_profit:float = Field(alias='grossProfit', description=\"The gross profit of the company\")\n",
        "    net_income:float = Field(alias='netIncome', description=\"The net income of the company\")\n",
        "    ebitda:float = Field(description=\"The EBITDA of the company\")\n",
        "    eps:float = Field(description=\"The EPS of the company\")\n",
        "    eps_diluted:float = Field(alias='epsdiluted', description=\"The EPS diluted of the company\")\n",
        "\n",
        "\n",
        "def get_income_statement(symbol):\n",
        "    \"\"\"\n",
        "    Fetch last income statement for the given company symbol such as revenue, gross profit, net income, EBITDA, EPS.\n",
        "    \"\"\"\n",
        "    try:\n",
        "      url = f\"https://financialmodelingprep.com/api/v3/income-statement/{symbol}?period=annual&apikey={FINANCIAL_MODELING_PREP_API_KEY}\"\n",
        "      response = requests.get(url)\n",
        "      data = response.json()\n",
        "      financials = IncomeStatement(**data[0])\n",
        "      return financials\n",
        "    except (IndexError, KeyError):\n",
        "        return {\"error\": f\"Could not fetch financials for symbol: {symbol}\"}\n",
        "\n",
        "## DATA PROVIDED BY THIS ENDPOINT:\n",
        "# {'date': '2023-09-30',\n",
        "#   'symbol': 'AAPL',\n",
        "#   'reportedCurrency': 'USD',\n",
        "#   'cik': '0000320193',\n",
        "#   'fillingDate': '2023-11-03',\n",
        "#   'acceptedDate': '2023-11-02 18:08:27',\n",
        "#   'calendarYear': '2023',\n",
        "#   'period': 'FY',\n",
        "#   'revenue': 383285000000,\n",
        "#   'costOfRevenue': 214137000000,\n",
        "#   'grossProfit': 169148000000,\n",
        "#   'grossProfitRatio': 0.4413112958,\n",
        "#   'researchAndDevelopmentExpenses': 29915000000,\n",
        "#   'generalAndAdministrativeExpenses': 0,\n",
        "#   'sellingAndMarketingExpenses': 0,\n",
        "#   'sellingGeneralAndAdministrativeExpenses': 24932000000,\n",
        "#   'otherExpenses': 382000000,\n",
        "#   'operatingExpenses': 55229000000,\n",
        "#   'costAndExpenses': 269366000000,\n",
        "#   'interestIncome': 3750000000,\n",
        "#   'interestExpense': 3933000000,\n",
        "#   'depreciationAndAmortization': 11519000000,\n",
        "#   'ebitda': 125820000000,\n",
        "#   'ebitdaratio': 0.3282674772,\n",
        "#   'operatingIncome': 114301000000,\n",
        "#   'operatingIncomeRatio': 0.2982141227,\n",
        "#   'totalOtherIncomeExpensesNet': -565000000,\n",
        "#   'incomeBeforeTax': 113736000000,\n",
        "#   'incomeBeforeTaxRatio': 0.2967400237,\n",
        "#   'incomeTaxExpense': 16741000000,\n",
        "#   'netIncome': 96995000000,\n",
        "#   'netIncomeRatio': 0.2530623426,\n",
        "#   'eps': 6.16,\n",
        "#   'epsdiluted': 6.13,\n",
        "#   'weightedAverageShsOut': 15744231000,\n",
        "#   'weightedAverageShsOutDil': 15812547000,\n",
        "#   'link': 'https://www.sec.gov/Archives/edgar/data/320193/000032019323000106/0000320193-23-000106-index.htm',\n",
        "#   'finalLink': 'https://www.sec.gov/Archives/edgar/data/320193/000032019323000106/aapl-20230930.htm'}"
      ],
      "metadata": {
        "id": "631Rlys3JNaO"
      },
      "execution_count": 7,
      "outputs": []
    },
    {
      "cell_type": "markdown",
      "source": [
        "# **Generate Report**"
      ],
      "metadata": {
        "id": "3Uev1tWFr6Wa"
      }
    },
    {
      "cell_type": "code",
      "source": [
        "def generate_markdown_financials(company_financials: CompanyFinancials) -> str:\n",
        "  return f\"\"\"\n",
        "\n",
        "      ## Company Overview\n",
        "      - **Name**: {company_financials.companyName}\n",
        "      - **Symbol**: {company_financials.symbol}\n",
        "      - **Market Capitalization**: {company_financials.marketCap}\n",
        "      - **Industry**: {company_financials.industry}\n",
        "      - **Sector**: {company_financials.sector}\n",
        "      - **Website**: [{company_financials.website}]({company_financials.website})\n",
        "      - **Beta**: {company_financials.beta: .3f}\n",
        "      - **Current Price**: ${company_financials.price: .2f}\n",
        "      \"\"\" if (company_financials) else \" No company financials were obtained\"\n",
        "\n",
        "def generate_markdown_income_statement(income_statement: IncomeStatement) -> str:\n",
        "  return f\"\"\"\n",
        "    ## Income Statement (as of {income_statement.date_field})\n",
        "    - **Revenue**: ${income_statement.revenue: .2f}\n",
        "    - **Gross Profit**: ${income_statement.gross_profit: .2f}\n",
        "    - **Net Income**: ${income_statement.net_income: .2f}\n",
        "    - **EBITDA**: ${income_statement.ebitda: .2f}\n",
        "    - **EPS**: {income_statement.eps: .2f}\n",
        "    - **EPS (Diluted)**: {income_statement.eps_diluted: .2f}\n",
        "    \"\"\" if income_statement else \"No income statement was obtained\"\n",
        "\n",
        "def generate_markdown_stock_price(stock_price: StockPrice) -> str:\n",
        "  return  f\"\"\"\n",
        "      ## Stock Price Information\n",
        "    - **Current Price**: ${stock_price.price: .2f}\n",
        "    - **Volume**: {stock_price.volume: .2f}\n",
        "    - **50-Day Average Price**: ${stock_price.priceAvg50: .2f}\n",
        "    - **200-Day Average Price**: ${stock_price.priceAvg200: .2f}\n",
        "    - **EPS**: {stock_price.eps: .2f}\n",
        "    - **PE Ratio**: {stock_price.pe: .2f}\n",
        "    - **Earnings Announcement**: {stock_price.earningsAnnouncement}\n",
        "    \"\"\" if stock_price else \"No stock price information was obtained\"\n",
        "\n",
        "def generate_markdown_report(company_financials: str, income_statement: str, stock_price: str) -> str:\n",
        "    \"\"\"\n",
        "    Generates a markdown report from the GraphState instance.\n",
        "    \"\"\"\n",
        "    md_report = f\"\"\"\n",
        "\n",
        "    {company_financials}\n",
        "\n",
        "    {income_statement}\n",
        "\n",
        "    {stock_price}\n",
        "    \"\"\"\n",
        "    return md_report"
      ],
      "metadata": {
        "id": "-DDbQlg0r6Fa"
      },
      "execution_count": 33,
      "outputs": []
    },
    {
      "cell_type": "markdown",
      "source": [
        "# **Anthropic LLM**"
      ],
      "metadata": {
        "id": "p2oOHTK6IZxX"
      }
    },
    {
      "cell_type": "code",
      "source": [
        "# from langchain_anthropic import ChatAnthropic\n",
        "# llm = ChatAnthropic(api_key=CLAUDE_API_KEY, model_name='claude-3-sonnet-20240229', temperature=0.0)"
      ],
      "metadata": {
        "id": "KCz4Xk9g24J9"
      },
      "execution_count": 9,
      "outputs": []
    },
    {
      "cell_type": "markdown",
      "source": [
        "# **GROQ LLM**"
      ],
      "metadata": {
        "id": "qOCx725QUzri"
      }
    },
    {
      "cell_type": "code",
      "source": [
        "from langchain_groq import ChatGroq\n",
        "\n",
        "llm = ChatGroq(api_key=GROQ_API_KEY,\n",
        "    # model=\"mixtral-8x7b-32768\",\n",
        "    model=\"llama-3.1-8b-instant\",\n",
        "    temperature=0,\n",
        "    max_tokens=None,\n",
        "    timeout=None,\n",
        "    max_retries=2,\n",
        ")"
      ],
      "metadata": {
        "id": "VnzAZqx5UjIv"
      },
      "execution_count": 10,
      "outputs": []
    },
    {
      "cell_type": "markdown",
      "source": [
        "# **Router Chain**"
      ],
      "metadata": {
        "id": "1CDXrtqQyZf8"
      }
    },
    {
      "cell_type": "code",
      "source": [
        "from langchain_core.prompts import ChatPromptTemplate, MessagesPlaceholder"
      ],
      "metadata": {
        "id": "j2nOx5Dn2ltu"
      },
      "execution_count": 11,
      "outputs": []
    },
    {
      "cell_type": "code",
      "source": [
        "from typing_extensions import Literal\n",
        "class RouterResult(BaseModel):\n",
        "  route:Literal['income_statement', 'report', 'company_financials', 'stock_price', \"chat\"] = Field(description=\"LLM's decision the route to take\")"
      ],
      "metadata": {
        "id": "jad5o4uMyZQc"
      },
      "execution_count": 12,
      "outputs": []
    },
    {
      "cell_type": "code",
      "source": [
        "# system_route = f\"\"\"You are very helpful Financial assistant. Per user's prompt you need to decide user's intention. your response can be only following values:\n",
        "#              - income_statement,\n",
        "#              - report,\n",
        "#              - company_financials,\n",
        "#              - stock_price,\n",
        "#              - chat\n",
        "\n",
        "#             When you do not know or not sure use chat.\n",
        "\n",
        "#             Example of request\n",
        "#             What is the stock price of Apple?\n",
        "#             stock_price\n",
        "\n",
        "#             Example of request\n",
        "#             What is/Tell me/Give me/Show me the income statement of Apple?\n",
        "#             What is grossProfit of Apple?\n",
        "\n",
        "#             income_statement\n",
        "\n",
        "#             Example of request\n",
        "#             What is the company financials of Apple?\n",
        "#             company_financials\n",
        "\n",
        "#             Example of request\n",
        "#             Tell me about Apple?\n",
        "#             report\n",
        "\n",
        "\n",
        "system_route = \"\"\"\n",
        "You are a highly knowledgeable Financial Assistant, designed to analyze and categorize user requests based on their intent. Choose from the following categories, and respond only with one of these values:\n",
        "\n",
        "- **income_statement**\n",
        "- **report**\n",
        "- **company_financials**\n",
        "- **stock_price**\n",
        "- **chat**\n",
        "\n",
        "If the intent isn't clear or doesn't match any specific category, use **chat**.\n",
        "\n",
        "**Examples:**\n",
        "\n",
        "1. **Stock Price Requests**\n",
        "   - \"What is the stock price of Apple?\"\n",
        "     **stock_price**\n",
        "   - \"Show me the latest price for Microsoft.\"\n",
        "     **stock_price**\n",
        "\n",
        "2. **Income Statement Requests**\n",
        "   - \"What is the income statement of Apple?\"\n",
        "     **income_statement**\n",
        "   - \"Give me the gross profit of Tesla for last year.\"\n",
        "     **income_statement**\n",
        "\n",
        "3. **Company Financials Requests**\n",
        "   - \"What are the financials for Google?\"\n",
        "     **company_financials**\n",
        "   - \"Show me Apple’s financial position.\"\n",
        "     **company_financials**\n",
        "\n",
        "4. **Report Requests**\n",
        "   - \"Tell me about Apple's business.\"\n",
        "     **report**\n",
        "   - \"Can you provide an overview of Amazon?\"\n",
        "     **report**\n",
        "\n",
        "5. **Chat Requests (unclear or conversational)**\n",
        "   - \"What do you think of Apple?\"\n",
        "     **chat**\n",
        "   - \"Any thoughts on the tech market?\"\n",
        "     **chat**\n",
        "\n",
        "\"\"\"\n",
        "route_prompt = ChatPromptTemplate.from_messages(\n",
        "     [\n",
        "        (\"system\", system_route),\n",
        "        (\"human\", \"{request}\"),\n",
        "    ]\n",
        ")"
      ],
      "metadata": {
        "id": "FVs5oy-4y8aC"
      },
      "execution_count": 13,
      "outputs": []
    },
    {
      "cell_type": "code",
      "source": [
        "def create_route_chain(llm):\n",
        "  return route_prompt | llm.with_structured_output(RouterResult)"
      ],
      "metadata": {
        "id": "iicQMvpO_Ep1"
      },
      "execution_count": 14,
      "outputs": []
    },
    {
      "cell_type": "code",
      "source": [
        "route_chain_temp = create_route_chain(llm)\n",
        "print(route_chain_temp.invoke({\"request\": \"proved overview of uber?\"}))"
      ],
      "metadata": {
        "colab": {
          "base_uri": "https://localhost:8080/"
        },
        "id": "F0FWa_rW0QUt",
        "outputId": "dd682418-d33c-42eb-8be3-53a11e673b98"
      },
      "execution_count": 15,
      "outputs": [
        {
          "output_type": "stream",
          "name": "stdout",
          "text": [
            "route='report'\n"
          ]
        }
      ]
    },
    {
      "cell_type": "markdown",
      "source": [
        "# **Chat chain**"
      ],
      "metadata": {
        "id": "m9rIsene3-MS"
      }
    },
    {
      "cell_type": "code",
      "source": [
        "class ChatResult(BaseModel):\n",
        "  response: str = Field(description=\"LLM's response\")"
      ],
      "metadata": {
        "id": "IgkgzLzE5LIS"
      },
      "execution_count": 16,
      "outputs": []
    },
    {
      "cell_type": "code",
      "source": [
        "system_chat = \"\"\"\n",
        "You are a very helpful Assistant, you are to answer user's request to the best of your ability. if you do not know respond with I do not know.\n",
        "\"\"\"\n",
        "\n",
        "chat_prompt = ChatPromptTemplate.from_messages(\n",
        "     [\n",
        "        (\"system\", system_chat),\n",
        "        (\"human\", \"{request}\"),\n",
        "    ]\n",
        ")"
      ],
      "metadata": {
        "id": "EdLkA6pX39fV"
      },
      "execution_count": 17,
      "outputs": []
    },
    {
      "cell_type": "code",
      "source": [
        "def create_chat_chain(llm):\n",
        "  return chat_prompt | llm.with_structured_output(ChatResult)"
      ],
      "metadata": {
        "id": "SchVxuYA-m4b"
      },
      "execution_count": 18,
      "outputs": []
    },
    {
      "cell_type": "code",
      "source": [
        "chat_chain_temp = create_chat_chain(llm)\n",
        "print(chat_chain_temp.invoke({\"request\": \"How is the weather?\"}))"
      ],
      "metadata": {
        "colab": {
          "base_uri": "https://localhost:8080/"
        },
        "id": "ncKeKRQ641LK",
        "outputId": "b38b12d2-0769-4f3f-ceda-2b10bf99e57f"
      },
      "execution_count": 19,
      "outputs": [
        {
          "output_type": "stream",
          "name": "stdout",
          "text": [
            "response='I don’t have real-time access to current weather conditions. However, I can suggest some ways for you to find out the current weather. You can check online weather websites such as AccuWeather, Weather.com, or the National Weather Service for the most up-to-date information. Alternatively, you can ask a voice assistant like Siri, Google Assistant, or Alexa to provide you with the current weather conditions.'\n"
          ]
        }
      ]
    },
    {
      "cell_type": "markdown",
      "source": [
        "# **Generation Chain**"
      ],
      "metadata": {
        "id": "kL6mpMvw2mb4"
      }
    },
    {
      "cell_type": "code",
      "source": [
        "class Extraction(BaseModel):\n",
        "  symbol: str = Field(description=\"The symbol of the company\")\n"
      ],
      "metadata": {
        "id": "sm4MJuBriXue"
      },
      "execution_count": 20,
      "outputs": []
    },
    {
      "cell_type": "code",
      "source": [
        "UNKNOWN = 'UNKNOWN'\n",
        "system_extraction = f\"\"\"You are very helpful Financial assistant.User will request financial data/information for a company.You are to return company's symbol on a stock market.\n",
        "            do not make anything up. if you do not know reply {UNKNOWN}.\n",
        "\"\"\"\n",
        "\n",
        "extraction_prompt = ChatPromptTemplate.from_messages(\n",
        "     [\n",
        "        (\"system\", system_extraction),\n",
        "        (\"human\", \"{request}\"),\n",
        "    ]\n",
        ")"
      ],
      "metadata": {
        "id": "dV2FbhfQOaIZ"
      },
      "execution_count": 21,
      "outputs": []
    },
    {
      "cell_type": "code",
      "source": [
        "def create_extraction_chain(llm):\n",
        "  return extraction_prompt | llm.with_structured_output(Extraction)"
      ],
      "metadata": {
        "id": "gfSsuCKzTy-1"
      },
      "execution_count": 22,
      "outputs": []
    },
    {
      "cell_type": "markdown",
      "source": [
        "# **Testing extraction chain**"
      ],
      "metadata": {
        "id": "iAytjndWjLrH"
      }
    },
    {
      "cell_type": "code",
      "source": [
        "extraction_chain_temp = create_extraction_chain(llm)\n",
        "result: Extraction = extraction_chain_temp.invoke({\"request\": \"What is the stock price of Apple?\"})\n",
        "print(result.symbol)"
      ],
      "metadata": {
        "colab": {
          "base_uri": "https://localhost:8080/"
        },
        "id": "yf_BRfVqjKMJ",
        "outputId": "d382f41a-b33a-416f-b1fa-51b05f936c27"
      },
      "execution_count": 23,
      "outputs": [
        {
          "output_type": "stream",
          "name": "stdout",
          "text": [
            "AAPL\n"
          ]
        }
      ]
    },
    {
      "cell_type": "markdown",
      "source": [
        "# **Graph State**"
      ],
      "metadata": {
        "id": "q38nbQe_c3-6"
      }
    },
    {
      "cell_type": "code",
      "source": [
        "class GraphState(TypedDict):\n",
        "  \"\"\"\n",
        "     Represents the state of our graph.\n",
        "\n",
        "    Attributes:\n",
        "        symbol: The symbol of the company.\n",
        "        income_statement: The income statement of the company.\n",
        "        company_financials: The company financials of the company.\n",
        "        stock_price: The stock price of the company.\n",
        "  \"\"\"\n",
        "  symbol: str\n",
        "  request: str\n",
        "  income_statement: str\n",
        "  company_financials: str\n",
        "  stock_price: str\n",
        "  extraction_chain: Any\n",
        "  chat_chain: Any\n",
        "  report_md: str\n",
        "  final_answer: str\n",
        "  request_category: str\n",
        "  chat_response: str\n",
        "  error: str"
      ],
      "metadata": {
        "id": "TVJMgSHKc27o"
      },
      "execution_count": 24,
      "outputs": []
    },
    {
      "cell_type": "code",
      "source": [
        "from langgraph.graph import END, StateGraph"
      ],
      "metadata": {
        "id": "1zO1-25geNgd"
      },
      "execution_count": 25,
      "outputs": []
    },
    {
      "cell_type": "markdown",
      "source": [
        "# **Graph Nodes**"
      ],
      "metadata": {
        "id": "UNyexaKw2g3u"
      }
    },
    {
      "cell_type": "code",
      "source": [
        "# def save_md_report_to_file(md_report: str, filename: str = \"financial_report.md\"):\n",
        "#   \"\"\"Saves the provided markdown report to a file.\"\"\"\n",
        "#   with open(filename, \"w\") as f:\n",
        "#     f.write(md_report)\n",
        "#   print(f\"Markdown report saved to {filename}\")"
      ],
      "metadata": {
        "id": "PLVNDPgFtLhY"
      },
      "execution_count": 26,
      "outputs": []
    },
    {
      "cell_type": "code",
      "source": [
        "def create_get_route_node(llm):\n",
        "  print('create_get_route_node')\n",
        "  chain = create_route_chain(llm)\n",
        "\n",
        "  def get_route_node(state: GraphState):\n",
        "    print('router_node')\n",
        "    print('State', state)\n",
        "    result: RouterResult = chain.invoke({\"request\": state['request']})\n",
        "    print('request_category:', result.route)\n",
        "    # state['request_category'] = result.route\n",
        "    return {'request_category':result.route}\n",
        "  return get_route_node\n",
        "\n",
        "def create_symbol_extraction_node(llm):\n",
        "  print('create_symbol_extraction_node')\n",
        "  chain = create_extraction_chain(llm)\n",
        "  def symbol_extraction_node(state: GraphState):\n",
        "    print('extraction_node')\n",
        "    print('State', state)\n",
        "    symbol  = UNKNOWN\n",
        "    try:\n",
        "      # chain = state['extraction_chain']\n",
        "      # if chain is None:\n",
        "      #   raise Exception('Extraction chain is not initialized')\n",
        "\n",
        "      result: Extraction = chain.invoke(state['request'])\n",
        "      # result: Extraction = extraction_chain_p.invoke(state['request'])\n",
        "      symbol = result.symbol\n",
        "    except Exception as e:\n",
        "      print('Error:', e)\n",
        "\n",
        "    # print('Symbol:', state['symbol'])\n",
        "    return {'symbol': symbol}\n",
        "  return symbol_extraction_node\n",
        "\n",
        "def get_income_statement_node(state: GraphState):\n",
        "  print('get_income_statement_node')\n",
        "  print('Symbol:', state['symbol'])\n",
        "  income_statement: IncomeStatement = get_income_statement(state['symbol'])\n",
        "  result = generate_markdown_income_statement(income_statement)\n",
        "  return {'income_statement': result}\n",
        "\n",
        "def get_company_financials_node(state: GraphState):\n",
        "  print('get_company_financials_node')\n",
        "  print('Symbol:', state['symbol'])\n",
        "  info: CompanyFinancials = get_company_financials(state['symbol'])\n",
        "  result = generate_markdown_financials(info)\n",
        "  return {'company_financials': result}\n",
        "\n",
        "def get_stock_price_node(state: GraphState):\n",
        "  print('get_stock_price_node')\n",
        "  print('Symbol:', state['symbol'])\n",
        "  stock_price: StockPrice = get_stock_price(state['symbol'])\n",
        "  result = generate_markdown_stock_price(stock_price)\n",
        "  return {'stock_price': result}\n",
        "\n",
        "def error_node(state: GraphState) -> str:\n",
        "    return {'error':f\"\"\"\n",
        "    Unknown Symbol: {state['symbol']}\n",
        "    Can not produce report for this symbol.\n",
        "    \"\"\"}\n",
        "\n",
        "def generate_markdown_report_node(state: GraphState) -> str:\n",
        "    \"\"\"\n",
        "    Generates a markdown report from the GraphState instance.\n",
        "    \"\"\"\n",
        "    company_financials = state['company_financials'] if 'company_financials' in state else None\n",
        "    income_statement = state['income_statement'] if ('income_statement' in state) else None\n",
        "    stock_price = state['stock_price'] if ('stock_price' in state) else None\n",
        "    md_report = generate_markdown_report(company_financials=company_financials, income_statement=income_statement, stock_price=stock_price)\n",
        "    file_name = f\"{state['symbol']}_financial_report.md\"\n",
        "    # save_md_report_to_file(md_report, filename= file_name)\n",
        "    return {'report_md': md_report}\n",
        "\n",
        "def create_chain_node(llm):\n",
        "  print('create_chain_node')\n",
        "  chain = create_chat_chain(llm)\n",
        "  def chat_node(state: GraphState) -> str:\n",
        "      \"\"\"\n",
        "      Generates a response from llm per user request/prompt.\n",
        "      \"\"\"\n",
        "      # chain = state['chat_chain']\n",
        "      # if chain is None:\n",
        "      #   raise Exception('Extraction chain is not initialized')\n",
        "\n",
        "      result: ChatResult = chain.invoke({\"request\": state['request']})\n",
        "      return {'chat_response': result.response}\n",
        "  return chat_node\n",
        "\n",
        "def final_answer_node(state: GraphState):\n",
        "  print('final_answer_node')\n",
        "  print('State', state)\n",
        "\n",
        "  if state['request_category'] == 'income_statement':\n",
        "    if  'error' in state:\n",
        "      result = state['error']\n",
        "    else:\n",
        "      result = state['income_statement']\n",
        "      result = f\"# income_statement for ({state['symbol']}) \\n\" + result\n",
        "  elif state['request_category'] == 'company_financials':\n",
        "    if  'error' in state:\n",
        "      result = state['error']\n",
        "    else:\n",
        "      result = state['company_financials']\n",
        "      result = f\"# company_financials for ({state['symbol']}) \\n\" + result\n",
        "  elif state['request_category'] == 'stock_price':\n",
        "    if  'error' in state:\n",
        "      result = state['error']\n",
        "    else:\n",
        "      result = state['stock_price']\n",
        "      result = f\"# stock_price for ({state['symbol']}) \\n\" + result\n",
        "  elif state['request_category'] == 'chat':\n",
        "    result = state['chat_response']\n",
        "  elif state['request_category'] == 'report':\n",
        "    if 'report_md' in state:\n",
        "      result = state['report_md']\n",
        "      result = f\"# Report for ({state['symbol']}) \\n\" + result\n",
        "    elif 'error' in state:\n",
        "      result = state['error']\n",
        "    else:\n",
        "      result = \"Can not provide an answer\"\n",
        "  else:\n",
        "    result = \"Can not provide an answer\"\n",
        "\n",
        "  return {'final_answer':result}"
      ],
      "metadata": {
        "id": "3iEZpkgC2fDW"
      },
      "execution_count": 54,
      "outputs": []
    },
    {
      "cell_type": "code",
      "source": [
        "def is_there_symbol(state: GraphState):\n",
        "  print('is_there_symbol')\n",
        "  print('State', state)\n",
        "  if state['symbol']  == UNKNOWN:\n",
        "    print('Symbol:', UNKNOWN)\n",
        "    return False\n",
        "\n",
        "  return True\n",
        "\n",
        "def where_to_alone(state: GraphState):\n",
        "  print('where_to_alone')\n",
        "  print('State', state)\n",
        "  if state['symbol'].upper()  == UNKNOWN:\n",
        "    # print('Symbol:', UNKNOWN)\n",
        "    print('Routing to error')\n",
        "    return 'error'\n",
        "  else:\n",
        "    print(f\"Routing to {state['request_category']}\")\n",
        "    return state['request_category']\n",
        "\n",
        "  return True\n",
        "def where_to(state: GraphState):\n",
        "  print('where_to')\n",
        "  print('State', state)\n",
        "  if state['request_category'] == 'report':\n",
        "    return 'report'\n",
        "  elif state['request_category'] == 'chat':\n",
        "    return 'chat'\n",
        "\n",
        "  return 'alone'"
      ],
      "metadata": {
        "id": "6aAaEUEgWQga"
      },
      "execution_count": 50,
      "outputs": []
    },
    {
      "cell_type": "markdown",
      "source": [],
      "metadata": {
        "id": "E9l3BUHbWP8g"
      }
    },
    {
      "cell_type": "code",
      "source": [
        "ROUTER = 'Router'\n",
        "SYMBOL_EXTRACTION_REPORT = 'SymbolExtractionReport'\n",
        "SYMBOL_EXTRACTION_ALONE = 'SymbolExtractionAlone'\n",
        "STOCK_PRICE = 'StockPrice'\n",
        "INCOME_STATEMENT ='IncomeStatement'\n",
        "COMPANY_FINANCIALS ='CompanyFinancials'\n",
        "STOCK_PRICE_STAND_ALONE = 'StockPriceStandAlone'\n",
        "INCOME_STATEMENT_STAND_ALONE ='IncomeStatementStandAlone'\n",
        "COMPANY_FINANCIALS_STAND_ALONE ='CompanyFinancialsStandAlone'\n",
        "FINAL_ANSWER = 'FinalAnswer'\n",
        "# START_REPORT = 'StartReport'\n",
        "\n",
        "CHAT_NODE = 'ChatNode'\n",
        "ERROR_NODE='ErrorNode'\n",
        "GENERATE_REPORT = 'GenerateReport'\n",
        "PASS = 'Pass'\n",
        "\n",
        "def create_workflow(llm):\n",
        "  workflow = StateGraph(GraphState)\n",
        "  workflow.add_node(ROUTER, create_get_route_node(llm))\n",
        "  # # DEBUG\n",
        "  # workflow.add_edge(ROUTER, END)\n",
        "  # workflow.set_entry_point(ROUTER)\n",
        "  # # END DEBUG\n",
        "\n",
        "  workflow.add_node(SYMBOL_EXTRACTION_REPORT, create_symbol_extraction_node(llm))\n",
        "  workflow.add_node(PASS, lambda state: state)\n",
        "\n",
        "  workflow.add_node(INCOME_STATEMENT, get_income_statement_node)\n",
        "  workflow.add_node(COMPANY_FINANCIALS, get_company_financials_node)\n",
        "  workflow.add_node(STOCK_PRICE, get_stock_price_node)\n",
        "\n",
        "  workflow.add_node(SYMBOL_EXTRACTION_ALONE, create_symbol_extraction_node(llm))\n",
        "  workflow.add_node(INCOME_STATEMENT_STAND_ALONE, get_income_statement_node)\n",
        "  workflow.add_node(COMPANY_FINANCIALS_STAND_ALONE, get_company_financials_node)\n",
        "  workflow.add_node(STOCK_PRICE_STAND_ALONE, get_stock_price_node)\n",
        "  workflow.add_node(CHAT_NODE, create_chain_node(llm))\n",
        "  workflow.add_node(FINAL_ANSWER, final_answer_node)\n",
        "\n",
        "  workflow.add_node(GENERATE_REPORT, generate_markdown_report_node)\n",
        "  workflow.add_node(ERROR_NODE, error_node)\n",
        "  workflow.set_entry_point(ROUTER)\n",
        "\n",
        "  workflow.add_conditional_edges(ROUTER, where_to,  path_map={\n",
        "      'report': SYMBOL_EXTRACTION_REPORT,\n",
        "      'alone': SYMBOL_EXTRACTION_ALONE,\n",
        "      'chat': CHAT_NODE\n",
        "  })\n",
        "\n",
        "  workflow.add_conditional_edges(SYMBOL_EXTRACTION_REPORT, is_there_symbol, {True:PASS, False: ERROR_NODE})\n",
        "  workflow.add_conditional_edges(SYMBOL_EXTRACTION_ALONE, where_to_alone, {\n",
        "      'error': ERROR_NODE,\n",
        "      'income_statement': INCOME_STATEMENT_STAND_ALONE,\n",
        "      'company_financials': COMPANY_FINANCIALS_STAND_ALONE,\n",
        "      'stock_price': STOCK_PRICE_STAND_ALONE,\n",
        "      })\n",
        "\n",
        "  # workflow.add_conditional_edges(ROUTER, lambda x: x['request_category'],  path_map={\n",
        "  #     'report': SYMBOL_EXTRACTION_REPORT,\n",
        "  #     'income_statement': INCOME_STATEMENT_STAND_ALONE,\n",
        "  #     'company_financials': COMPANY_FINANCIALS_STAND_ALONE,\n",
        "  #     'stock_price': STOCK_PRICE_STAND_ALONE,\n",
        "  #     'chat': CHAT_NODE\n",
        "  # })\n",
        "\n",
        "\n",
        "  # workflow.add_conditional_edges(SYMBOL_EXTRACTION_REPORT, is_there_symbol, {True:PASS, False: ERROR_NODE})\n",
        "\n",
        "  workflow.add_edge(PASS,INCOME_STATEMENT)\n",
        "  workflow.add_edge(PASS,COMPANY_FINANCIALS)\n",
        "  workflow.add_edge(PASS,STOCK_PRICE)\n",
        "\n",
        "  workflow.add_edge(INCOME_STATEMENT,GENERATE_REPORT)\n",
        "  workflow.add_edge(COMPANY_FINANCIALS,GENERATE_REPORT)\n",
        "  workflow.add_edge(STOCK_PRICE,GENERATE_REPORT)\n",
        "\n",
        "  workflow.add_edge(GENERATE_REPORT, FINAL_ANSWER)\n",
        "  workflow.add_edge(ERROR_NODE, FINAL_ANSWER)\n",
        "\n",
        "  workflow.add_edge(INCOME_STATEMENT_STAND_ALONE,FINAL_ANSWER)\n",
        "  workflow.add_edge(COMPANY_FINANCIALS_STAND_ALONE,FINAL_ANSWER)\n",
        "  workflow.add_edge(STOCK_PRICE_STAND_ALONE,FINAL_ANSWER)\n",
        "  workflow.add_edge(CHAT_NODE,FINAL_ANSWER)\n",
        "  workflow.add_edge(FINAL_ANSWER, END)\n",
        "\n",
        "  memory = MemorySaver()\n",
        "\n",
        "  app = workflow.compile(checkpointer=memory)\n",
        "\n",
        "  app.get_graph().draw_mermaid_png(output_file_path=\"financial_asstant_graph.png\")\n",
        "  return app\n",
        "# app.nodes[EXTRACTION] = app.nodes[EXTRACTION].bind(extraction_chain_p=extraction_chain)\n",
        "# app.nodes[EXTRACTION].func.__closure__[0].cell_contents = extraction_chain\n",
        "# app.nodes[EXTRACTION].extraction_chain_p = extraction_chain\n",
        "# print(app.nodes[EXTRACTION].__)\n",
        "# app.bind(extraction_chain_p = extraction_chain)\n",
        "\n",
        "\n"
      ],
      "metadata": {
        "id": "eZ5BVdj9max7"
      },
      "execution_count": 55,
      "outputs": []
    },
    {
      "cell_type": "code",
      "source": [
        "# def create_inner_test(p: str):\n",
        "#   pp=p+p\n",
        "#   def get_pp(x: str):\n",
        "#     return pp+x\n",
        "#   return get_pp\n",
        "\n",
        "# func = create_inner_test('test')\n",
        "\n",
        "# # func = create_symbol_extraction_node(llm)\n",
        "# print(func('who'))\n"
      ],
      "metadata": {
        "colab": {
          "base_uri": "https://localhost:8080/"
        },
        "id": "jm4ykKauFnGc",
        "outputId": "4e6d233c-f5fe-4765-802f-2dc6eb6acea8"
      },
      "execution_count": 30,
      "outputs": [
        {
          "output_type": "stream",
          "name": "stdout",
          "text": [
            "testtestwho\n"
          ]
        }
      ]
    },
    {
      "cell_type": "code",
      "source": [
        "app = create_workflow(llm)"
      ],
      "metadata": {
        "colab": {
          "base_uri": "https://localhost:8080/"
        },
        "id": "5Q3xErm0Ohmb",
        "outputId": "fb3ebdf7-fbe1-41a2-ecf1-d4db28d3ea45"
      },
      "execution_count": 56,
      "outputs": [
        {
          "output_type": "stream",
          "name": "stdout",
          "text": [
            "create_get_route_node\n",
            "create_symbol_extraction_node\n",
            "create_symbol_extraction_node\n",
            "create_chain_node\n"
          ]
        }
      ]
    },
    {
      "cell_type": "code",
      "source": [
        "# request = \"tell me about Apple?\"\n",
        "request = \"tell me about Uber?\"\n",
        "# app.debug = True\n",
        "# extraction_chain = create_extraction_chain(llm)\n",
        "# chat_chain = create_chat_chain(llm)\n",
        "# result = app.invoke(input = {\"request\": request},\n",
        "result = app.invoke(input = {\"request\": request}, config={\"configurable\": {\"thread_id\": \"1\"}})\n",
        "# result = app.invoke(input = {\"request\": request, 'extraction_chain': extraction_chain, 'chat_chain':chat_chain},\n",
        "    # config={\"configurable\": {\"thread_id\": \"1\"}})\n",
        "print('Final result:',result['final_answer'])\n",
        "# result[]\n",
        "# print(app.invoke(input = {\"request\": request}))"
      ],
      "metadata": {
        "colab": {
          "base_uri": "https://localhost:8080/"
        },
        "id": "e0Gf1FmTht5M",
        "outputId": "fdbd4cfe-b0c4-44c8-a7b8-801bf1632260"
      },
      "execution_count": 58,
      "outputs": [
        {
          "output_type": "stream",
          "name": "stdout",
          "text": [
            "router_node\n",
            "State {'request': 'tell me about Uber?'}\n",
            "request_category: report\n",
            "where_to\n",
            "State {'request_category': 'report', 'request': 'tell me about Uber?'}\n",
            "extraction_node\n",
            "State {'request': 'tell me about Uber?', 'request_category': 'report'}\n",
            "is_there_symbol\n",
            "State {'symbol': 'UBER', 'request': 'tell me about Uber?', 'request_category': 'report'}\n",
            "get_income_statement_node\n",
            "Symbol: UBER\n",
            "get_company_financials_node\n",
            "Symbol: UBER\n",
            "get_stock_price_node\n",
            "Symbol: UBER\n",
            "final_answer_node\n",
            "State {'symbol': 'UBER', 'request': 'tell me about Uber?', 'income_statement': '\\n    ## Income Statement (as of 2023-12-31)\\n    - **Revenue**: $ 37281000000.00\\n    - **Gross Profit**: $ 14824000000.00\\n    - **Net Income**: $ 1887000000.00\\n    - **EBITDA**: $ 2219000000.00\\n    - **EPS**:  0.93\\n    - **EPS (Diluted)**:  0.87\\n    ', 'company_financials': '\\n\\n      ## Company Overview\\n      - **Name**: Uber Technologies, Inc.\\n      - **Symbol**: UBER\\n      - **Market Capitalization**: 153893855000.0\\n      - **Industry**: Software - Application\\n      - **Sector**: Technology\\n      - **Website**: [https://www.uber.com](https://www.uber.com)\\n      - **Beta**:  1.331\\n      - **Current Price**: $ 73.25\\n      ', 'stock_price': '\\n      ## Stock Price Information\\n    - **Current Price**: $ 73.25\\n    - **Volume**:  30557430.00\\n    - **50-Day Average Price**: $ 75.38\\n    - **200-Day Average Price**: $ 71.99\\n    - **EPS**:  2.03\\n    - **PE Ratio**:  36.08\\n    - **Earnings Announcement**: 2024-10-31 04:00:00+00:00\\n    ', 'report_md': '\\n    \\n    \\n\\n      ## Company Overview\\n      - **Name**: Uber Technologies, Inc.\\n      - **Symbol**: UBER\\n      - **Market Capitalization**: 153893855000.0\\n      - **Industry**: Software - Application\\n      - **Sector**: Technology\\n      - **Website**: [https://www.uber.com](https://www.uber.com)\\n      - **Beta**:  1.331\\n      - **Current Price**: $ 73.25\\n      \\n\\n    \\n    ## Income Statement (as of 2023-12-31)\\n    - **Revenue**: $ 37281000000.00\\n    - **Gross Profit**: $ 14824000000.00\\n    - **Net Income**: $ 1887000000.00\\n    - **EBITDA**: $ 2219000000.00\\n    - **EPS**:  0.93\\n    - **EPS (Diluted)**:  0.87\\n    \\n\\n    \\n      ## Stock Price Information\\n    - **Current Price**: $ 73.25\\n    - **Volume**:  30557430.00\\n    - **50-Day Average Price**: $ 75.38\\n    - **200-Day Average Price**: $ 71.99\\n    - **EPS**:  2.03\\n    - **PE Ratio**:  36.08\\n    - **Earnings Announcement**: 2024-10-31 04:00:00+00:00\\n    \\n    ', 'request_category': 'report'}\n",
            "Final result: # Report for (UBER) \n",
            "\n",
            "    \n",
            "    \n",
            "\n",
            "      ## Company Overview\n",
            "      - **Name**: Uber Technologies, Inc.\n",
            "      - **Symbol**: UBER\n",
            "      - **Market Capitalization**: 153893855000.0\n",
            "      - **Industry**: Software - Application\n",
            "      - **Sector**: Technology\n",
            "      - **Website**: [https://www.uber.com](https://www.uber.com)\n",
            "      - **Beta**:  1.331\n",
            "      - **Current Price**: $ 73.25\n",
            "      \n",
            "\n",
            "    \n",
            "    ## Income Statement (as of 2023-12-31)\n",
            "    - **Revenue**: $ 37281000000.00\n",
            "    - **Gross Profit**: $ 14824000000.00\n",
            "    - **Net Income**: $ 1887000000.00\n",
            "    - **EBITDA**: $ 2219000000.00\n",
            "    - **EPS**:  0.93\n",
            "    - **EPS (Diluted)**:  0.87\n",
            "    \n",
            "\n",
            "    \n",
            "      ## Stock Price Information\n",
            "    - **Current Price**: $ 73.25\n",
            "    - **Volume**:  30557430.00\n",
            "    - **50-Day Average Price**: $ 75.38\n",
            "    - **200-Day Average Price**: $ 71.99\n",
            "    - **EPS**:  2.03\n",
            "    - **PE Ratio**:  36.08\n",
            "    - **Earnings Announcement**: 2024-10-31 04:00:00+00:00\n",
            "    \n",
            "    \n"
          ]
        }
      ]
    },
    {
      "cell_type": "code",
      "source": [
        "request = \"what Uber's stock price?\"\n",
        "result = app.invoke(input = {\"request\": request}, config={\"configurable\": {\"thread_id\": \"2\"}})\n",
        "print('Final result:',result['final_answer'])\n"
      ],
      "metadata": {
        "colab": {
          "base_uri": "https://localhost:8080/"
        },
        "id": "gEKKqSKCTs-s",
        "outputId": "e795f635-a162-411b-d5b3-a5283f9ddfbc"
      },
      "execution_count": 59,
      "outputs": [
        {
          "output_type": "stream",
          "name": "stdout",
          "text": [
            "router_node\n",
            "State {'request': \"what Uber's stock price?\"}\n",
            "request_category: stock_price\n",
            "where_to\n",
            "State {'request_category': 'stock_price', 'request': \"what Uber's stock price?\"}\n",
            "extraction_node\n",
            "State {'request': \"what Uber's stock price?\", 'request_category': 'stock_price'}\n",
            "where_to_alone\n",
            "State {'symbol': 'UBER', 'request': \"what Uber's stock price?\", 'request_category': 'stock_price'}\n",
            "Routing to stock_price\n",
            "get_stock_price_node\n",
            "Symbol: UBER\n",
            "final_answer_node\n",
            "State {'symbol': 'UBER', 'request': \"what Uber's stock price?\", 'stock_price': '\\n      ## Stock Price Information\\n    - **Current Price**: $ 73.25\\n    - **Volume**:  30557430.00\\n    - **50-Day Average Price**: $ 75.38\\n    - **200-Day Average Price**: $ 71.99\\n    - **EPS**:  2.03\\n    - **PE Ratio**:  36.08\\n    - **Earnings Announcement**: 2024-10-31 04:00:00+00:00\\n    ', 'request_category': 'stock_price'}\n",
            "Final result: # stock_price for (UBER) \n",
            "\n",
            "      ## Stock Price Information\n",
            "    - **Current Price**: $ 73.25\n",
            "    - **Volume**:  30557430.00\n",
            "    - **50-Day Average Price**: $ 75.38\n",
            "    - **200-Day Average Price**: $ 71.99\n",
            "    - **EPS**:  2.03\n",
            "    - **PE Ratio**:  36.08\n",
            "    - **Earnings Announcement**: 2024-10-31 04:00:00+00:00\n",
            "    \n"
          ]
        }
      ]
    },
    {
      "cell_type": "code",
      "source": [
        "request = \"do the same for lyft\"\n",
        "result = app.invoke(input = {\"request\": request}, config={\"configurable\": {\"thread_id\": \"5\"}})\n",
        "print('Final result:',result['final_answer'])\n"
      ],
      "metadata": {
        "colab": {
          "base_uri": "https://localhost:8080/"
        },
        "id": "68VuuakYO_d7",
        "outputId": "297f3744-57c9-444f-fce2-704d2ba17904"
      },
      "execution_count": 60,
      "outputs": [
        {
          "output_type": "stream",
          "name": "stdout",
          "text": [
            "router_node\n",
            "State {'request': 'do the same for lyft'}\n",
            "request_category: company_financials\n",
            "where_to\n",
            "State {'request_category': 'company_financials', 'request': 'do the same for lyft'}\n",
            "extraction_node\n",
            "State {'request': 'do the same for lyft', 'request_category': 'company_financials'}\n",
            "where_to_alone\n",
            "State {'symbol': 'LYFT', 'request': 'do the same for lyft', 'request_category': 'company_financials'}\n",
            "Routing to company_financials\n",
            "get_company_financials_node\n",
            "Symbol: LYFT\n",
            "final_answer_node\n",
            "State {'symbol': 'LYFT', 'request': 'do the same for lyft', 'company_financials': '\\n\\n      ## Company Overview\\n      - **Name**: Lyft, Inc.\\n      - **Symbol**: LYFT\\n      - **Market Capitalization**: 5413931960.0\\n      - **Industry**: Software - Application\\n      - **Sector**: Technology\\n      - **Website**: [https://www.lyft.com](https://www.lyft.com)\\n      - **Beta**:  2.049\\n      - **Current Price**: $ 13.48\\n      ', 'request_category': 'company_financials'}\n",
            "Final result: # company_financials for (LYFT) \n",
            "\n",
            "\n",
            "      ## Company Overview\n",
            "      - **Name**: Lyft, Inc.\n",
            "      - **Symbol**: LYFT\n",
            "      - **Market Capitalization**: 5413931960.0\n",
            "      - **Industry**: Software - Application\n",
            "      - **Sector**: Technology\n",
            "      - **Website**: [https://www.lyft.com](https://www.lyft.com)\n",
            "      - **Beta**:  2.049\n",
            "      - **Current Price**: $ 13.48\n",
            "      \n"
          ]
        }
      ]
    },
    {
      "cell_type": "code",
      "source": [
        "request = \"I meant stock price\"\n",
        "result = app.invoke(input = {\"request\": request}, config={\"configurable\": {\"thread_id\": \"6\"}})\n",
        "print('Final result:',result['final_answer'])\n"
      ],
      "metadata": {
        "colab": {
          "base_uri": "https://localhost:8080/"
        },
        "id": "xtAX3pFdPmIW",
        "outputId": "7f95515a-cc8a-430e-8bb6-1bde144446b5"
      },
      "execution_count": 61,
      "outputs": [
        {
          "output_type": "stream",
          "name": "stdout",
          "text": [
            "router_node\n",
            "State {'symbol': 'UNKNOWN', 'request': 'I meant stock price', 'final_answer': '\\n    Unknown Symbol: UNKNOWN\\n    Can not produce report for this symbol.\\n    ', 'request_category': 'stock_price', 'error': '\\n    Unknown Symbol: UNKNOWN\\n    Can not produce report for this symbol.\\n    '}\n",
            "request_category: stock_price\n",
            "where_to\n",
            "State {'request_category': 'stock_price', 'symbol': 'UNKNOWN', 'request': 'I meant stock price', 'final_answer': '\\n    Unknown Symbol: UNKNOWN\\n    Can not produce report for this symbol.\\n    ', 'error': '\\n    Unknown Symbol: UNKNOWN\\n    Can not produce report for this symbol.\\n    '}\n",
            "extraction_node\n",
            "State {'symbol': 'UNKNOWN', 'request': 'I meant stock price', 'final_answer': '\\n    Unknown Symbol: UNKNOWN\\n    Can not produce report for this symbol.\\n    ', 'request_category': 'stock_price', 'error': '\\n    Unknown Symbol: UNKNOWN\\n    Can not produce report for this symbol.\\n    '}\n",
            "where_to_alone\n",
            "State {'symbol': 'UNKNOWN', 'request': 'I meant stock price', 'final_answer': '\\n    Unknown Symbol: UNKNOWN\\n    Can not produce report for this symbol.\\n    ', 'request_category': 'stock_price', 'error': '\\n    Unknown Symbol: UNKNOWN\\n    Can not produce report for this symbol.\\n    '}\n",
            "Routing to error\n",
            "final_answer_node\n",
            "State {'symbol': 'UNKNOWN', 'request': 'I meant stock price', 'final_answer': '\\n    Unknown Symbol: UNKNOWN\\n    Can not produce report for this symbol.\\n    ', 'request_category': 'stock_price', 'error': '\\n    Unknown Symbol: UNKNOWN\\n    Can not produce report for this symbol.\\n    '}\n",
            "Final result: \n",
            "    Unknown Symbol: UNKNOWN\n",
            "    Can not produce report for this symbol.\n",
            "    \n"
          ]
        }
      ]
    },
    {
      "cell_type": "code",
      "source": [
        "request = \"Hello, how are you doing?\"\n",
        "result = app.invoke(input = {\"request\": request}, config={\"configurable\": {\"thread_id\": \"4\"}})\n",
        "print('Final result:',result['final_answer'])\n"
      ],
      "metadata": {
        "id": "FF7Z-f6dT9fD"
      },
      "execution_count": null,
      "outputs": []
    }
  ],
  "metadata": {
    "language_info": {
      "name": "python"
    },
    "colab": {
      "provenance": []
    },
    "kernelspec": {
      "name": "python3",
      "display_name": "Python 3"
    }
  },
  "nbformat": 4,
  "nbformat_minor": 0
}